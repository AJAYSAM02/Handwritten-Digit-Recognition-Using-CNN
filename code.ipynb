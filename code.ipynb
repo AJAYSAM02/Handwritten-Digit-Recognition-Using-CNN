{
 "cells": [
  {
   "cell_type": "code",
   "execution_count": 1,
   "id": "44576f70",
   "metadata": {},
   "outputs": [
    {
     "name": "stdout",
     "output_type": "stream",
     "text": [
      "Requirement already satisfied: pillow in c:\\users\\ajay samuel victor\\new folder\\envs\\mlenv\\lib\\site-packages (8.3.1)\n"
     ]
    }
   ],
   "source": [
    "!pip install pillow"
   ]
  },
  {
   "cell_type": "code",
   "execution_count": 12,
   "id": "19a922ed",
   "metadata": {},
   "outputs": [],
   "source": [
    "# importing the necessary libraries\n",
    "import keras\n",
    "from keras.datasets import mnist\n",
    "from keras.models import Sequential\n",
    "from keras.utils import to_categorical\n",
    "from keras.layers import Dense, Dropout, Flatten\n",
    "from keras.layers import Conv2D, MaxPooling2D\n",
    "from keras import backend as K"
   ]
  },
  {
   "cell_type": "code",
   "execution_count": 3,
   "id": "76a3aa76",
   "metadata": {},
   "outputs": [
    {
     "name": "stdout",
     "output_type": "stream",
     "text": [
      "Downloading data from https://storage.googleapis.com/tensorflow/tf-keras-datasets/mnist.npz\n",
      "11493376/11490434 [==============================] - 1s 0us/step\n"
     ]
    }
   ],
   "source": [
    "# loading the dataset(split the data between train and test sets)\n",
    "(x_train, y_train), (x_test, y_test) = mnist.load_data()"
   ]
  },
  {
   "cell_type": "code",
   "execution_count": 4,
   "id": "be4a4138",
   "metadata": {},
   "outputs": [
    {
     "name": "stdout",
     "output_type": "stream",
     "text": [
      "(60000, 28, 28) (60000,)\n"
     ]
    }
   ],
   "source": [
    "print(x_train.shape, y_train.shape)"
   ]
  },
  {
   "cell_type": "code",
   "execution_count": 5,
   "id": "bf511b04",
   "metadata": {},
   "outputs": [],
   "source": [
    "# we have 60,000 training images of handwritten digits"
   ]
  },
  {
   "cell_type": "code",
   "execution_count": 6,
   "id": "019e433a",
   "metadata": {},
   "outputs": [
    {
     "name": "stdout",
     "output_type": "stream",
     "text": [
      "(10000, 28, 28) (10000,)\n"
     ]
    }
   ],
   "source": [
    "print(x_test.shape, y_test.shape)"
   ]
  },
  {
   "cell_type": "code",
   "execution_count": 7,
   "id": "bce70cdf",
   "metadata": {},
   "outputs": [],
   "source": [
    "# we have 10,000 test images "
   ]
  },
  {
   "cell_type": "code",
   "execution_count": 8,
   "id": "73020433",
   "metadata": {},
   "outputs": [],
   "source": [
    "# preprocess the data"
   ]
  },
  {
   "cell_type": "code",
   "execution_count": 14,
   "id": "8879c520",
   "metadata": {},
   "outputs": [
    {
     "name": "stdout",
     "output_type": "stream",
     "text": [
      "x_train shape: (60000, 28, 28, 1)\n",
      "60000 train samples\n",
      "10000 test samples\n"
     ]
    }
   ],
   "source": [
    "x_train = x_train.reshape(x_train.shape[0], 28, 28, 1)\n",
    "x_test = x_test.reshape(x_test.shape[0], 28, 28, 1)\n",
    "input_shape = (28, 28, 1)\n",
    "num_classes = ()\n",
    "\n",
    "# convert class vectors to binary class matrices\n",
    "y_train = keras.utils.to_categorical(y_train, num_classes)\n",
    "y_test = keras.utils.to_categorical(y_test, num_classes)\n",
    "x_train = x_train.astype('float32')\n",
    "x_test = x_test.astype('float32')\n",
    "x_train /= 255\n",
    "x_test /= 255\n",
    "print('x_train shape:', x_train.shape)\n",
    "print(x_train.shape[0], 'train samples')\n",
    "print(x_test.shape[0], 'test samples')"
   ]
  },
  {
   "cell_type": "code",
   "execution_count": 15,
   "id": "e45132d7",
   "metadata": {},
   "outputs": [],
   "source": [
    "# creating the CNN model\n",
    "batch_size = 128\n",
    "num_classes = 10\n",
    "epochs = 10\n",
    "\n",
    "model = Sequential()\n",
    "model.add(Conv2D(32, kernel_size=(3, 3),activation='relu',input_shape=input_shape))\n",
    "model.add(Conv2D(64, (3, 3), activation='relu'))\n",
    "model.add(MaxPooling2D(pool_size=(2, 2)))\n",
    "model.add(Dropout(0.25))\n",
    "model.add(Flatten())\n",
    "model.add(Dense(256, activation='relu'))\n",
    "model.add(Dropout(0.5))\n",
    "model.add(Dense(num_classes, activation='softmax'))\n",
    "\n",
    "model.compile(loss=keras.losses.categorical_crossentropy,optimizer=keras.optimizers.Adadelta(),metrics=['accuracy'])"
   ]
  },
  {
   "cell_type": "code",
   "execution_count": 16,
   "id": "40dbff25",
   "metadata": {},
   "outputs": [
    {
     "name": "stdout",
     "output_type": "stream",
     "text": [
      "Epoch 1/10\n",
      "469/469 [==============================] - 53s 114ms/step - loss: 2.2791 - accuracy: 0.1480 - val_loss: 2.2408 - val_accuracy: 0.3583\n",
      "Epoch 2/10\n",
      "469/469 [==============================] - 60s 128ms/step - loss: 2.2160 - accuracy: 0.2792 - val_loss: 2.1607 - val_accuracy: 0.5340\n",
      "Epoch 3/10\n",
      "469/469 [==============================] - 67s 143ms/step - loss: 2.1285 - accuracy: 0.4092 - val_loss: 2.0471 - val_accuracy: 0.6506\n",
      "Epoch 4/10\n",
      "469/469 [==============================] - 68s 146ms/step - loss: 2.0025 - accuracy: 0.5153 - val_loss: 1.8794 - val_accuracy: 0.7189\n",
      "Epoch 5/10\n",
      "469/469 [==============================] - 69s 148ms/step - loss: 1.8238 - accuracy: 0.5882 - val_loss: 1.6505 - val_accuracy: 0.7552\n",
      "Epoch 6/10\n",
      "469/469 [==============================] - 67s 144ms/step - loss: 1.5989 - accuracy: 0.6333 - val_loss: 1.3818 - val_accuracy: 0.7753\n",
      "Epoch 7/10\n",
      "469/469 [==============================] - 69s 146ms/step - loss: 1.3693 - accuracy: 0.6630 - val_loss: 1.1282 - val_accuracy: 0.7929\n",
      "Epoch 8/10\n",
      "469/469 [==============================] - 69s 148ms/step - loss: 1.1702 - accuracy: 0.6919 - val_loss: 0.9313 - val_accuracy: 0.8082\n",
      "Epoch 9/10\n",
      "469/469 [==============================] - 62s 133ms/step - loss: 1.0266 - accuracy: 0.7115 - val_loss: 0.7922 - val_accuracy: 0.8236\n",
      "Epoch 10/10\n",
      "469/469 [==============================] - 65s 139ms/step - loss: 0.9187 - accuracy: 0.7346 - val_loss: 0.6957 - val_accuracy: 0.8350\n",
      "The model has successfully trained\n",
      "Saving the model as mnist.h5\n"
     ]
    }
   ],
   "source": [
    "# training and saving the model\n",
    "hist = model.fit(x_train, y_train,batch_size=batch_size,epochs=epochs,verbose=1,validation_data=(x_test, y_test))\n",
    "print(\"The model has successfully trained\")\n",
    "model.save('mnist.h5')\n",
    "print(\"Saving the model as mnist.h5\")"
   ]
  },
  {
   "cell_type": "code",
   "execution_count": 17,
   "id": "a0678dff",
   "metadata": {},
   "outputs": [
    {
     "name": "stdout",
     "output_type": "stream",
     "text": [
      "Test loss: 0.6956705451011658\n",
      "Test accuracy: 0.8349999785423279\n"
     ]
    }
   ],
   "source": [
    "# evaluating the model\n",
    "score = model.evaluate(x_test, y_test, verbose=0)\n",
    "print('Test loss:', score[0])\n",
    "print('Test accuracy:', score[1])"
   ]
  },
  {
   "cell_type": "code",
   "execution_count": null,
   "id": "28d65a6a",
   "metadata": {},
   "outputs": [],
   "source": []
  }
 ],
 "metadata": {
  "kernelspec": {
   "display_name": "Python 3 (ipykernel)",
   "language": "python",
   "name": "python3"
  },
  "language_info": {
   "codemirror_mode": {
    "name": "ipython",
    "version": 3
   },
   "file_extension": ".py",
   "mimetype": "text/x-python",
   "name": "python",
   "nbconvert_exporter": "python",
   "pygments_lexer": "ipython3",
   "version": "3.8.11"
  }
 },
 "nbformat": 4,
 "nbformat_minor": 5
}
